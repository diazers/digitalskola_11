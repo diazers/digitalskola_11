{
 "cells": [
  {
   "cell_type": "code",
   "execution_count": 1,
   "id": "533b4ad5",
   "metadata": {
    "_cell_guid": "b1076dfc-b9ad-4769-8c92-a6c4dae69d19",
    "_uuid": "8f2839f25d086af736a60e9eeb907d3b93b6e0e5",
    "execution": {
     "iopub.execute_input": "2022-02-08T10:17:21.143888Z",
     "iopub.status.busy": "2022-02-08T10:17:21.142044Z",
     "iopub.status.idle": "2022-02-08T10:17:21.160329Z",
     "shell.execute_reply": "2022-02-08T10:17:21.161048Z",
     "shell.execute_reply.started": "2022-02-08T10:13:52.958097Z"
    },
    "papermill": {
     "duration": 0.045881,
     "end_time": "2022-02-08T10:17:21.161558",
     "exception": false,
     "start_time": "2022-02-08T10:17:21.115677",
     "status": "completed"
    },
    "tags": []
   },
   "outputs": [
    {
     "name": "stdout",
     "output_type": "stream",
     "text": [
      "/kaggle/input/water-potability/water_potability.csv\n"
     ]
    }
   ],
   "source": [
    "# This Python 3 environment comes with many helpful analytics libraries installed\n",
    "# It is defined by the kaggle/python Docker image: https://github.com/kaggle/docker-python\n",
    "# For example, here's several helpful packages to load\n",
    "\n",
    "import numpy as np # linear algebra\n",
    "import pandas as pd # data processing, CSV file I/O (e.g. pd.read_csv)\n",
    "\n",
    "# Input data files are available in the read-only \"../input/\" directory\n",
    "# For example, running this (by clicking run or pressing Shift+Enter) will list all files under the input directory\n",
    "\n",
    "import os\n",
    "for dirname, _, filenames in os.walk('/kaggle/input'):\n",
    "    for filename in filenames:\n",
    "        print(os.path.join(dirname, filename))\n",
    "\n",
    "# You can write up to 20GB to the current directory (/kaggle/working/) that gets preserved as output when you create a version using \"Save & Run All\" \n",
    "# You can also write temporary files to /kaggle/temp/, but they won't be saved outside of the current session"
   ]
  },
  {
   "cell_type": "markdown",
   "id": "05772463",
   "metadata": {
    "papermill": {
     "duration": 0.020416,
     "end_time": "2022-02-08T10:17:21.204396",
     "exception": false,
     "start_time": "2022-02-08T10:17:21.183980",
     "status": "completed"
    },
    "tags": []
   },
   "source": [
    "# Kaggle Practice - Digital Skola Batch 11\n",
    "\n",
    "by : Diaz Jubairy Prabowo\n",
    "___\n",
    "\n",
    "**Contents**\n",
    "- Data Preparation\n",
    "    - Reading Dataset\n",
    "    - Check any null values\n",
    "    - Check data type in each columns\n",
    "- Data Cleansing\n",
    "    - Handling null values\n",
    "    - Delete any duplicate values\n",
    "    - Change the data type if there is any wrong data type\n",
    "- Exploratory Data Analysis\n",
    "    - Show the distribution in each columns\n",
    "        - add mean, median, mode in each columns (untuk lihat skewness)\n",
    "        "
   ]
  },
  {
   "cell_type": "markdown",
   "id": "6e0dae0b",
   "metadata": {
    "papermill": {
     "duration": 0.020064,
     "end_time": "2022-02-08T10:17:21.245390",
     "exception": false,
     "start_time": "2022-02-08T10:17:21.225326",
     "status": "completed"
    },
    "tags": []
   },
   "source": [
    "## Data Prepration"
   ]
  },
  {
   "cell_type": "code",
   "execution_count": 2,
   "id": "edc5c7f5",
   "metadata": {
    "execution": {
     "iopub.execute_input": "2022-02-08T10:17:21.290069Z",
     "iopub.status.busy": "2022-02-08T10:17:21.289410Z",
     "iopub.status.idle": "2022-02-08T10:17:22.442938Z",
     "shell.execute_reply": "2022-02-08T10:17:22.442291Z",
     "shell.execute_reply.started": "2022-02-08T10:13:52.975705Z"
    },
    "papermill": {
     "duration": 1.177294,
     "end_time": "2022-02-08T10:17:22.443107",
     "exception": false,
     "start_time": "2022-02-08T10:17:21.265813",
     "status": "completed"
    },
    "tags": []
   },
   "outputs": [],
   "source": [
    "# import library\n",
    "\n",
    "import pandas as pd\n",
    "import numpy as np\n",
    "\n",
    "# import visualization library\n",
    "import matplotlib.pyplot as plt\n",
    "import seaborn as sns"
   ]
  },
  {
   "cell_type": "code",
   "execution_count": 3,
   "id": "8961ecb9",
   "metadata": {
    "execution": {
     "iopub.execute_input": "2022-02-08T10:17:22.491602Z",
     "iopub.status.busy": "2022-02-08T10:17:22.490760Z",
     "iopub.status.idle": "2022-02-08T10:17:22.543021Z",
     "shell.execute_reply": "2022-02-08T10:17:22.543536Z",
     "shell.execute_reply.started": "2022-02-08T10:13:54.060411Z"
    },
    "papermill": {
     "duration": 0.079692,
     "end_time": "2022-02-08T10:17:22.543733",
     "exception": false,
     "start_time": "2022-02-08T10:17:22.464041",
     "status": "completed"
    },
    "tags": []
   },
   "outputs": [
    {
     "data": {
      "text/html": [
       "<div>\n",
       "<style scoped>\n",
       "    .dataframe tbody tr th:only-of-type {\n",
       "        vertical-align: middle;\n",
       "    }\n",
       "\n",
       "    .dataframe tbody tr th {\n",
       "        vertical-align: top;\n",
       "    }\n",
       "\n",
       "    .dataframe thead th {\n",
       "        text-align: right;\n",
       "    }\n",
       "</style>\n",
       "<table border=\"1\" class=\"dataframe\">\n",
       "  <thead>\n",
       "    <tr style=\"text-align: right;\">\n",
       "      <th></th>\n",
       "      <th>ph</th>\n",
       "      <th>Hardness</th>\n",
       "      <th>Solids</th>\n",
       "      <th>Chloramines</th>\n",
       "      <th>Sulfate</th>\n",
       "      <th>Conductivity</th>\n",
       "      <th>Organic_carbon</th>\n",
       "      <th>Trihalomethanes</th>\n",
       "      <th>Turbidity</th>\n",
       "      <th>Potability</th>\n",
       "    </tr>\n",
       "  </thead>\n",
       "  <tbody>\n",
       "    <tr>\n",
       "      <th>0</th>\n",
       "      <td>NaN</td>\n",
       "      <td>204.890455</td>\n",
       "      <td>20791.318981</td>\n",
       "      <td>7.300212</td>\n",
       "      <td>368.516441</td>\n",
       "      <td>564.308654</td>\n",
       "      <td>10.379783</td>\n",
       "      <td>86.990970</td>\n",
       "      <td>2.963135</td>\n",
       "      <td>0</td>\n",
       "    </tr>\n",
       "    <tr>\n",
       "      <th>1</th>\n",
       "      <td>3.716080</td>\n",
       "      <td>129.422921</td>\n",
       "      <td>18630.057858</td>\n",
       "      <td>6.635246</td>\n",
       "      <td>NaN</td>\n",
       "      <td>592.885359</td>\n",
       "      <td>15.180013</td>\n",
       "      <td>56.329076</td>\n",
       "      <td>4.500656</td>\n",
       "      <td>0</td>\n",
       "    </tr>\n",
       "    <tr>\n",
       "      <th>2</th>\n",
       "      <td>8.099124</td>\n",
       "      <td>224.236259</td>\n",
       "      <td>19909.541732</td>\n",
       "      <td>9.275884</td>\n",
       "      <td>NaN</td>\n",
       "      <td>418.606213</td>\n",
       "      <td>16.868637</td>\n",
       "      <td>66.420093</td>\n",
       "      <td>3.055934</td>\n",
       "      <td>0</td>\n",
       "    </tr>\n",
       "    <tr>\n",
       "      <th>3</th>\n",
       "      <td>8.316766</td>\n",
       "      <td>214.373394</td>\n",
       "      <td>22018.417441</td>\n",
       "      <td>8.059332</td>\n",
       "      <td>356.886136</td>\n",
       "      <td>363.266516</td>\n",
       "      <td>18.436524</td>\n",
       "      <td>100.341674</td>\n",
       "      <td>4.628771</td>\n",
       "      <td>0</td>\n",
       "    </tr>\n",
       "    <tr>\n",
       "      <th>4</th>\n",
       "      <td>9.092223</td>\n",
       "      <td>181.101509</td>\n",
       "      <td>17978.986339</td>\n",
       "      <td>6.546600</td>\n",
       "      <td>310.135738</td>\n",
       "      <td>398.410813</td>\n",
       "      <td>11.558279</td>\n",
       "      <td>31.997993</td>\n",
       "      <td>4.075075</td>\n",
       "      <td>0</td>\n",
       "    </tr>\n",
       "  </tbody>\n",
       "</table>\n",
       "</div>"
      ],
      "text/plain": [
       "         ph    Hardness        Solids  Chloramines     Sulfate  Conductivity  \\\n",
       "0       NaN  204.890455  20791.318981     7.300212  368.516441    564.308654   \n",
       "1  3.716080  129.422921  18630.057858     6.635246         NaN    592.885359   \n",
       "2  8.099124  224.236259  19909.541732     9.275884         NaN    418.606213   \n",
       "3  8.316766  214.373394  22018.417441     8.059332  356.886136    363.266516   \n",
       "4  9.092223  181.101509  17978.986339     6.546600  310.135738    398.410813   \n",
       "\n",
       "   Organic_carbon  Trihalomethanes  Turbidity  Potability  \n",
       "0       10.379783        86.990970   2.963135           0  \n",
       "1       15.180013        56.329076   4.500656           0  \n",
       "2       16.868637        66.420093   3.055934           0  \n",
       "3       18.436524       100.341674   4.628771           0  \n",
       "4       11.558279        31.997993   4.075075           0  "
      ]
     },
     "execution_count": 3,
     "metadata": {},
     "output_type": "execute_result"
    }
   ],
   "source": [
    "# reading dataset\n",
    "data = pd.read_csv(\"../input/water-potability/water_potability.csv\")\n",
    "data.head()"
   ]
  },
  {
   "cell_type": "code",
   "execution_count": 4,
   "id": "fb327093",
   "metadata": {
    "execution": {
     "iopub.execute_input": "2022-02-08T10:17:22.589613Z",
     "iopub.status.busy": "2022-02-08T10:17:22.588950Z",
     "iopub.status.idle": "2022-02-08T10:17:22.605447Z",
     "shell.execute_reply": "2022-02-08T10:17:22.605926Z",
     "shell.execute_reply.started": "2022-02-08T10:13:54.119591Z"
    },
    "papermill": {
     "duration": 0.041372,
     "end_time": "2022-02-08T10:17:22.606130",
     "exception": false,
     "start_time": "2022-02-08T10:17:22.564758",
     "status": "completed"
    },
    "tags": []
   },
   "outputs": [
    {
     "data": {
      "text/html": [
       "<div>\n",
       "<style scoped>\n",
       "    .dataframe tbody tr th:only-of-type {\n",
       "        vertical-align: middle;\n",
       "    }\n",
       "\n",
       "    .dataframe tbody tr th {\n",
       "        vertical-align: top;\n",
       "    }\n",
       "\n",
       "    .dataframe thead th {\n",
       "        text-align: right;\n",
       "    }\n",
       "</style>\n",
       "<table border=\"1\" class=\"dataframe\">\n",
       "  <thead>\n",
       "    <tr style=\"text-align: right;\">\n",
       "      <th></th>\n",
       "      <th>ph</th>\n",
       "      <th>Hardness</th>\n",
       "      <th>Solids</th>\n",
       "      <th>Chloramines</th>\n",
       "      <th>Sulfate</th>\n",
       "      <th>Conductivity</th>\n",
       "      <th>Organic_carbon</th>\n",
       "      <th>Trihalomethanes</th>\n",
       "      <th>Turbidity</th>\n",
       "      <th>Potability</th>\n",
       "    </tr>\n",
       "  </thead>\n",
       "  <tbody>\n",
       "    <tr>\n",
       "      <th>column type</th>\n",
       "      <td>float64</td>\n",
       "      <td>float64</td>\n",
       "      <td>float64</td>\n",
       "      <td>float64</td>\n",
       "      <td>float64</td>\n",
       "      <td>float64</td>\n",
       "      <td>float64</td>\n",
       "      <td>float64</td>\n",
       "      <td>float64</td>\n",
       "      <td>int64</td>\n",
       "    </tr>\n",
       "  </tbody>\n",
       "</table>\n",
       "</div>"
      ],
      "text/plain": [
       "                  ph Hardness   Solids Chloramines  Sulfate Conductivity  \\\n",
       "column type  float64  float64  float64     float64  float64      float64   \n",
       "\n",
       "            Organic_carbon Trihalomethanes Turbidity Potability  \n",
       "column type        float64         float64   float64      int64  "
      ]
     },
     "execution_count": 4,
     "metadata": {},
     "output_type": "execute_result"
    }
   ],
   "source": [
    "check_nul = pd.DataFrame(data.dtypes).T.rename({0:\"column type\"})\n",
    "check_nul"
   ]
  },
  {
   "cell_type": "code",
   "execution_count": 5,
   "id": "5faa11f7",
   "metadata": {
    "execution": {
     "iopub.execute_input": "2022-02-08T10:17:22.653745Z",
     "iopub.status.busy": "2022-02-08T10:17:22.653020Z",
     "iopub.status.idle": "2022-02-08T10:17:22.668474Z",
     "shell.execute_reply": "2022-02-08T10:17:22.667815Z",
     "shell.execute_reply.started": "2022-02-08T10:13:54.137434Z"
    },
    "papermill": {
     "duration": 0.040593,
     "end_time": "2022-02-08T10:17:22.668632",
     "exception": false,
     "start_time": "2022-02-08T10:17:22.628039",
     "status": "completed"
    },
    "tags": []
   },
   "outputs": [
    {
     "data": {
      "text/html": [
       "<div>\n",
       "<style scoped>\n",
       "    .dataframe tbody tr th:only-of-type {\n",
       "        vertical-align: middle;\n",
       "    }\n",
       "\n",
       "    .dataframe tbody tr th {\n",
       "        vertical-align: top;\n",
       "    }\n",
       "\n",
       "    .dataframe thead th {\n",
       "        text-align: right;\n",
       "    }\n",
       "</style>\n",
       "<table border=\"1\" class=\"dataframe\">\n",
       "  <thead>\n",
       "    <tr style=\"text-align: right;\">\n",
       "      <th></th>\n",
       "      <th>ph</th>\n",
       "      <th>Hardness</th>\n",
       "      <th>Solids</th>\n",
       "      <th>Chloramines</th>\n",
       "      <th>Sulfate</th>\n",
       "      <th>Conductivity</th>\n",
       "      <th>Organic_carbon</th>\n",
       "      <th>Trihalomethanes</th>\n",
       "      <th>Turbidity</th>\n",
       "      <th>Potability</th>\n",
       "    </tr>\n",
       "  </thead>\n",
       "  <tbody>\n",
       "    <tr>\n",
       "      <th>number of null values</th>\n",
       "      <td>491</td>\n",
       "      <td>0</td>\n",
       "      <td>0</td>\n",
       "      <td>0</td>\n",
       "      <td>781</td>\n",
       "      <td>0</td>\n",
       "      <td>0</td>\n",
       "      <td>162</td>\n",
       "      <td>0</td>\n",
       "      <td>0</td>\n",
       "    </tr>\n",
       "  </tbody>\n",
       "</table>\n",
       "</div>"
      ],
      "text/plain": [
       "                        ph  Hardness  Solids  Chloramines  Sulfate  \\\n",
       "number of null values  491         0       0            0      781   \n",
       "\n",
       "                       Conductivity  Organic_carbon  Trihalomethanes  \\\n",
       "number of null values             0               0              162   \n",
       "\n",
       "                       Turbidity  Potability  \n",
       "number of null values          0           0  "
      ]
     },
     "execution_count": 5,
     "metadata": {},
     "output_type": "execute_result"
    }
   ],
   "source": [
    "pd.DataFrame(data.isnull().sum()).T.rename({0:'number of null values'})"
   ]
  },
  {
   "cell_type": "code",
   "execution_count": 6,
   "id": "0da73a04",
   "metadata": {
    "execution": {
     "iopub.execute_input": "2022-02-08T10:17:22.722607Z",
     "iopub.status.busy": "2022-02-08T10:17:22.721810Z",
     "iopub.status.idle": "2022-02-08T10:17:22.738920Z",
     "shell.execute_reply": "2022-02-08T10:17:22.739537Z",
     "shell.execute_reply.started": "2022-02-08T10:13:54.157127Z"
    },
    "papermill": {
     "duration": 0.048815,
     "end_time": "2022-02-08T10:17:22.739737",
     "exception": false,
     "start_time": "2022-02-08T10:17:22.690922",
     "status": "completed"
    },
    "tags": []
   },
   "outputs": [
    {
     "data": {
      "text/html": [
       "<div>\n",
       "<style scoped>\n",
       "    .dataframe tbody tr th:only-of-type {\n",
       "        vertical-align: middle;\n",
       "    }\n",
       "\n",
       "    .dataframe tbody tr th {\n",
       "        vertical-align: top;\n",
       "    }\n",
       "\n",
       "    .dataframe thead th {\n",
       "        text-align: right;\n",
       "    }\n",
       "</style>\n",
       "<table border=\"1\" class=\"dataframe\">\n",
       "  <thead>\n",
       "    <tr style=\"text-align: right;\">\n",
       "      <th></th>\n",
       "      <th>ph</th>\n",
       "      <th>Hardness</th>\n",
       "      <th>Solids</th>\n",
       "      <th>Chloramines</th>\n",
       "      <th>Sulfate</th>\n",
       "      <th>Conductivity</th>\n",
       "      <th>Organic_carbon</th>\n",
       "      <th>Trihalomethanes</th>\n",
       "      <th>Turbidity</th>\n",
       "      <th>Potability</th>\n",
       "    </tr>\n",
       "  </thead>\n",
       "  <tbody>\n",
       "    <tr>\n",
       "      <th>column type</th>\n",
       "      <td>float64</td>\n",
       "      <td>float64</td>\n",
       "      <td>float64</td>\n",
       "      <td>float64</td>\n",
       "      <td>float64</td>\n",
       "      <td>float64</td>\n",
       "      <td>float64</td>\n",
       "      <td>float64</td>\n",
       "      <td>float64</td>\n",
       "      <td>int64</td>\n",
       "    </tr>\n",
       "    <tr>\n",
       "      <th>number of null values</th>\n",
       "      <td>491</td>\n",
       "      <td>0</td>\n",
       "      <td>0</td>\n",
       "      <td>0</td>\n",
       "      <td>781</td>\n",
       "      <td>0</td>\n",
       "      <td>0</td>\n",
       "      <td>162</td>\n",
       "      <td>0</td>\n",
       "      <td>0</td>\n",
       "    </tr>\n",
       "  </tbody>\n",
       "</table>\n",
       "</div>"
      ],
      "text/plain": [
       "                            ph Hardness   Solids Chloramines  Sulfate  \\\n",
       "column type            float64  float64  float64     float64  float64   \n",
       "number of null values      491        0        0           0      781   \n",
       "\n",
       "                      Conductivity Organic_carbon Trihalomethanes Turbidity  \\\n",
       "column type                float64        float64         float64   float64   \n",
       "number of null values            0              0             162         0   \n",
       "\n",
       "                      Potability  \n",
       "column type                int64  \n",
       "number of null values          0  "
      ]
     },
     "execution_count": 6,
     "metadata": {},
     "output_type": "execute_result"
    }
   ],
   "source": [
    "check_nul = pd.DataFrame(data.dtypes).T.rename({0:\"column type\"})\n",
    "check_nul = check_nul.append(pd.DataFrame(data.isnull().sum()).T.rename({0:'number of null values'}))\n",
    "check_nul"
   ]
  },
  {
   "cell_type": "code",
   "execution_count": 7,
   "id": "5aa7375a",
   "metadata": {
    "execution": {
     "iopub.execute_input": "2022-02-08T10:17:22.804989Z",
     "iopub.status.busy": "2022-02-08T10:17:22.791683Z",
     "iopub.status.idle": "2022-02-08T10:17:22.808721Z",
     "shell.execute_reply": "2022-02-08T10:17:22.809330Z",
     "shell.execute_reply.started": "2022-02-08T10:13:54.178963Z"
    },
    "papermill": {
     "duration": 0.046918,
     "end_time": "2022-02-08T10:17:22.809537",
     "exception": false,
     "start_time": "2022-02-08T10:17:22.762619",
     "status": "completed"
    },
    "tags": []
   },
   "outputs": [
    {
     "data": {
      "text/html": [
       "<div>\n",
       "<style scoped>\n",
       "    .dataframe tbody tr th:only-of-type {\n",
       "        vertical-align: middle;\n",
       "    }\n",
       "\n",
       "    .dataframe tbody tr th {\n",
       "        vertical-align: top;\n",
       "    }\n",
       "\n",
       "    .dataframe thead th {\n",
       "        text-align: right;\n",
       "    }\n",
       "</style>\n",
       "<table border=\"1\" class=\"dataframe\">\n",
       "  <thead>\n",
       "    <tr style=\"text-align: right;\">\n",
       "      <th></th>\n",
       "      <th>ph</th>\n",
       "      <th>Hardness</th>\n",
       "      <th>Solids</th>\n",
       "      <th>Chloramines</th>\n",
       "      <th>Sulfate</th>\n",
       "      <th>Conductivity</th>\n",
       "      <th>Organic_carbon</th>\n",
       "      <th>Trihalomethanes</th>\n",
       "      <th>Turbidity</th>\n",
       "      <th>Potability</th>\n",
       "    </tr>\n",
       "  </thead>\n",
       "  <tbody>\n",
       "    <tr>\n",
       "      <th>percentage of null values</th>\n",
       "      <td>14.98779</td>\n",
       "      <td>0.0</td>\n",
       "      <td>0.0</td>\n",
       "      <td>0.0</td>\n",
       "      <td>23.840049</td>\n",
       "      <td>0.0</td>\n",
       "      <td>0.0</td>\n",
       "      <td>4.945055</td>\n",
       "      <td>0.0</td>\n",
       "      <td>0.0</td>\n",
       "    </tr>\n",
       "  </tbody>\n",
       "</table>\n",
       "</div>"
      ],
      "text/plain": [
       "                                 ph  Hardness  Solids  Chloramines    Sulfate  \\\n",
       "percentage of null values  14.98779       0.0     0.0          0.0  23.840049   \n",
       "\n",
       "                           Conductivity  Organic_carbon  Trihalomethanes  \\\n",
       "percentage of null values           0.0             0.0         4.945055   \n",
       "\n",
       "                           Turbidity  Potability  \n",
       "percentage of null values        0.0         0.0  "
      ]
     },
     "execution_count": 7,
     "metadata": {},
     "output_type": "execute_result"
    }
   ],
   "source": [
    "pd.DataFrame(data.isnull().sum()/data.shape[0]*100).T.rename({0:\"percentage of null values\"})"
   ]
  },
  {
   "cell_type": "markdown",
   "id": "535a1aff",
   "metadata": {
    "papermill": {
     "duration": 0.022884,
     "end_time": "2022-02-08T10:17:22.855743",
     "exception": false,
     "start_time": "2022-02-08T10:17:22.832859",
     "status": "completed"
    },
    "tags": []
   },
   "source": [
    "There are several values in several columns such as :\n",
    "- ph (15%)\n",
    "- sulfate (24%)\n",
    "- Trihalomethanes (5%)\n",
    "\n",
    "from this null values, we can do a data cleansing either to drop all null values or we fill null values with certain condition"
   ]
  },
  {
   "cell_type": "markdown",
   "id": "a379d9d3",
   "metadata": {
    "papermill": {
     "duration": 0.023035,
     "end_time": "2022-02-08T10:17:22.901740",
     "exception": false,
     "start_time": "2022-02-08T10:17:22.878705",
     "status": "completed"
    },
    "tags": []
   },
   "source": [
    "## Data Cleansing"
   ]
  },
  {
   "cell_type": "code",
   "execution_count": 8,
   "id": "a57e0dea",
   "metadata": {
    "execution": {
     "iopub.execute_input": "2022-02-08T10:17:22.952698Z",
     "iopub.status.busy": "2022-02-08T10:17:22.951641Z",
     "iopub.status.idle": "2022-02-08T10:17:22.957616Z",
     "shell.execute_reply": "2022-02-08T10:17:22.958361Z",
     "shell.execute_reply.started": "2022-02-08T10:13:54.200819Z"
    },
    "papermill": {
     "duration": 0.033695,
     "end_time": "2022-02-08T10:17:22.958568",
     "exception": false,
     "start_time": "2022-02-08T10:17:22.924873",
     "status": "completed"
    },
    "tags": []
   },
   "outputs": [
    {
     "data": {
      "text/plain": [
       "(3276, 10)"
      ]
     },
     "execution_count": 8,
     "metadata": {},
     "output_type": "execute_result"
    }
   ],
   "source": [
    "data.shape"
   ]
  },
  {
   "cell_type": "code",
   "execution_count": 9,
   "id": "d597da36",
   "metadata": {
    "execution": {
     "iopub.execute_input": "2022-02-08T10:17:23.009826Z",
     "iopub.status.busy": "2022-02-08T10:17:23.008721Z",
     "iopub.status.idle": "2022-02-08T10:17:23.023005Z",
     "shell.execute_reply": "2022-02-08T10:17:23.023618Z",
     "shell.execute_reply.started": "2022-02-08T10:13:54.208980Z"
    },
    "papermill": {
     "duration": 0.04196,
     "end_time": "2022-02-08T10:17:23.023827",
     "exception": false,
     "start_time": "2022-02-08T10:17:22.981867",
     "status": "completed"
    },
    "tags": []
   },
   "outputs": [
    {
     "data": {
      "text/plain": [
       "(2011, 10)"
      ]
     },
     "execution_count": 9,
     "metadata": {},
     "output_type": "execute_result"
    }
   ],
   "source": [
    "# Handling null values by dropping the null values\n",
    "\n",
    "data_v1 = data.dropna()\n",
    "data_v1.shape"
   ]
  },
  {
   "cell_type": "code",
   "execution_count": 10,
   "id": "b5cae011",
   "metadata": {
    "execution": {
     "iopub.execute_input": "2022-02-08T10:17:23.075798Z",
     "iopub.status.busy": "2022-02-08T10:17:23.074807Z",
     "iopub.status.idle": "2022-02-08T10:17:23.092260Z",
     "shell.execute_reply": "2022-02-08T10:17:23.092867Z",
     "shell.execute_reply.started": "2022-02-08T10:13:54.229054Z"
    },
    "papermill": {
     "duration": 0.045236,
     "end_time": "2022-02-08T10:17:23.093065",
     "exception": false,
     "start_time": "2022-02-08T10:17:23.047829",
     "status": "completed"
    },
    "tags": []
   },
   "outputs": [
    {
     "data": {
      "text/plain": [
       "0"
      ]
     },
     "execution_count": 10,
     "metadata": {},
     "output_type": "execute_result"
    }
   ],
   "source": [
    "# is there any duplicate values ?\n",
    "\n",
    "data_v1.duplicated().sum()"
   ]
  },
  {
   "cell_type": "code",
   "execution_count": 11,
   "id": "e9c6e512",
   "metadata": {
    "execution": {
     "iopub.execute_input": "2022-02-08T10:17:23.147511Z",
     "iopub.status.busy": "2022-02-08T10:17:23.146394Z",
     "iopub.status.idle": "2022-02-08T10:17:23.168642Z",
     "shell.execute_reply": "2022-02-08T10:17:23.169136Z",
     "shell.execute_reply.started": "2022-02-08T10:13:54.248797Z"
    },
    "papermill": {
     "duration": 0.052444,
     "end_time": "2022-02-08T10:17:23.169360",
     "exception": false,
     "start_time": "2022-02-08T10:17:23.116916",
     "status": "completed"
    },
    "tags": []
   },
   "outputs": [
    {
     "data": {
      "text/html": [
       "<div>\n",
       "<style scoped>\n",
       "    .dataframe tbody tr th:only-of-type {\n",
       "        vertical-align: middle;\n",
       "    }\n",
       "\n",
       "    .dataframe tbody tr th {\n",
       "        vertical-align: top;\n",
       "    }\n",
       "\n",
       "    .dataframe thead th {\n",
       "        text-align: right;\n",
       "    }\n",
       "</style>\n",
       "<table border=\"1\" class=\"dataframe\">\n",
       "  <thead>\n",
       "    <tr style=\"text-align: right;\">\n",
       "      <th></th>\n",
       "      <th>ph</th>\n",
       "      <th>Hardness</th>\n",
       "      <th>Solids</th>\n",
       "      <th>Chloramines</th>\n",
       "      <th>Sulfate</th>\n",
       "      <th>Conductivity</th>\n",
       "      <th>Organic_carbon</th>\n",
       "      <th>Trihalomethanes</th>\n",
       "      <th>Turbidity</th>\n",
       "      <th>Potability</th>\n",
       "    </tr>\n",
       "  </thead>\n",
       "  <tbody>\n",
       "    <tr>\n",
       "      <th>3</th>\n",
       "      <td>8.316766</td>\n",
       "      <td>214.373394</td>\n",
       "      <td>22018.417441</td>\n",
       "      <td>8.059332</td>\n",
       "      <td>356.886136</td>\n",
       "      <td>363.266516</td>\n",
       "      <td>18.436524</td>\n",
       "      <td>100.341674</td>\n",
       "      <td>4.628771</td>\n",
       "      <td>0</td>\n",
       "    </tr>\n",
       "    <tr>\n",
       "      <th>4</th>\n",
       "      <td>9.092223</td>\n",
       "      <td>181.101509</td>\n",
       "      <td>17978.986339</td>\n",
       "      <td>6.546600</td>\n",
       "      <td>310.135738</td>\n",
       "      <td>398.410813</td>\n",
       "      <td>11.558279</td>\n",
       "      <td>31.997993</td>\n",
       "      <td>4.075075</td>\n",
       "      <td>0</td>\n",
       "    </tr>\n",
       "    <tr>\n",
       "      <th>5</th>\n",
       "      <td>5.584087</td>\n",
       "      <td>188.313324</td>\n",
       "      <td>28748.687739</td>\n",
       "      <td>7.544869</td>\n",
       "      <td>326.678363</td>\n",
       "      <td>280.467916</td>\n",
       "      <td>8.399735</td>\n",
       "      <td>54.917862</td>\n",
       "      <td>2.559708</td>\n",
       "      <td>0</td>\n",
       "    </tr>\n",
       "    <tr>\n",
       "      <th>6</th>\n",
       "      <td>10.223862</td>\n",
       "      <td>248.071735</td>\n",
       "      <td>28749.716544</td>\n",
       "      <td>7.513408</td>\n",
       "      <td>393.663396</td>\n",
       "      <td>283.651634</td>\n",
       "      <td>13.789695</td>\n",
       "      <td>84.603556</td>\n",
       "      <td>2.672989</td>\n",
       "      <td>0</td>\n",
       "    </tr>\n",
       "    <tr>\n",
       "      <th>7</th>\n",
       "      <td>8.635849</td>\n",
       "      <td>203.361523</td>\n",
       "      <td>13672.091764</td>\n",
       "      <td>4.563009</td>\n",
       "      <td>303.309771</td>\n",
       "      <td>474.607645</td>\n",
       "      <td>12.363817</td>\n",
       "      <td>62.798309</td>\n",
       "      <td>4.401425</td>\n",
       "      <td>0</td>\n",
       "    </tr>\n",
       "    <tr>\n",
       "      <th>...</th>\n",
       "      <td>...</td>\n",
       "      <td>...</td>\n",
       "      <td>...</td>\n",
       "      <td>...</td>\n",
       "      <td>...</td>\n",
       "      <td>...</td>\n",
       "      <td>...</td>\n",
       "      <td>...</td>\n",
       "      <td>...</td>\n",
       "      <td>...</td>\n",
       "    </tr>\n",
       "    <tr>\n",
       "      <th>3267</th>\n",
       "      <td>8.989900</td>\n",
       "      <td>215.047358</td>\n",
       "      <td>15921.412018</td>\n",
       "      <td>6.297312</td>\n",
       "      <td>312.931022</td>\n",
       "      <td>390.410231</td>\n",
       "      <td>9.899115</td>\n",
       "      <td>55.069304</td>\n",
       "      <td>4.613843</td>\n",
       "      <td>1</td>\n",
       "    </tr>\n",
       "    <tr>\n",
       "      <th>3268</th>\n",
       "      <td>6.702547</td>\n",
       "      <td>207.321086</td>\n",
       "      <td>17246.920347</td>\n",
       "      <td>7.708117</td>\n",
       "      <td>304.510230</td>\n",
       "      <td>329.266002</td>\n",
       "      <td>16.217303</td>\n",
       "      <td>28.878601</td>\n",
       "      <td>3.442983</td>\n",
       "      <td>1</td>\n",
       "    </tr>\n",
       "    <tr>\n",
       "      <th>3269</th>\n",
       "      <td>11.491011</td>\n",
       "      <td>94.812545</td>\n",
       "      <td>37188.826022</td>\n",
       "      <td>9.263166</td>\n",
       "      <td>258.930600</td>\n",
       "      <td>439.893618</td>\n",
       "      <td>16.172755</td>\n",
       "      <td>41.558501</td>\n",
       "      <td>4.369264</td>\n",
       "      <td>1</td>\n",
       "    </tr>\n",
       "    <tr>\n",
       "      <th>3270</th>\n",
       "      <td>6.069616</td>\n",
       "      <td>186.659040</td>\n",
       "      <td>26138.780191</td>\n",
       "      <td>7.747547</td>\n",
       "      <td>345.700257</td>\n",
       "      <td>415.886955</td>\n",
       "      <td>12.067620</td>\n",
       "      <td>60.419921</td>\n",
       "      <td>3.669712</td>\n",
       "      <td>1</td>\n",
       "    </tr>\n",
       "    <tr>\n",
       "      <th>3271</th>\n",
       "      <td>4.668102</td>\n",
       "      <td>193.681735</td>\n",
       "      <td>47580.991603</td>\n",
       "      <td>7.166639</td>\n",
       "      <td>359.948574</td>\n",
       "      <td>526.424171</td>\n",
       "      <td>13.894419</td>\n",
       "      <td>66.687695</td>\n",
       "      <td>4.435821</td>\n",
       "      <td>1</td>\n",
       "    </tr>\n",
       "  </tbody>\n",
       "</table>\n",
       "<p>2011 rows × 10 columns</p>\n",
       "</div>"
      ],
      "text/plain": [
       "             ph    Hardness        Solids  Chloramines     Sulfate  \\\n",
       "3      8.316766  214.373394  22018.417441     8.059332  356.886136   \n",
       "4      9.092223  181.101509  17978.986339     6.546600  310.135738   \n",
       "5      5.584087  188.313324  28748.687739     7.544869  326.678363   \n",
       "6     10.223862  248.071735  28749.716544     7.513408  393.663396   \n",
       "7      8.635849  203.361523  13672.091764     4.563009  303.309771   \n",
       "...         ...         ...           ...          ...         ...   \n",
       "3267   8.989900  215.047358  15921.412018     6.297312  312.931022   \n",
       "3268   6.702547  207.321086  17246.920347     7.708117  304.510230   \n",
       "3269  11.491011   94.812545  37188.826022     9.263166  258.930600   \n",
       "3270   6.069616  186.659040  26138.780191     7.747547  345.700257   \n",
       "3271   4.668102  193.681735  47580.991603     7.166639  359.948574   \n",
       "\n",
       "      Conductivity  Organic_carbon  Trihalomethanes  Turbidity  Potability  \n",
       "3       363.266516       18.436524       100.341674   4.628771           0  \n",
       "4       398.410813       11.558279        31.997993   4.075075           0  \n",
       "5       280.467916        8.399735        54.917862   2.559708           0  \n",
       "6       283.651634       13.789695        84.603556   2.672989           0  \n",
       "7       474.607645       12.363817        62.798309   4.401425           0  \n",
       "...            ...             ...              ...        ...         ...  \n",
       "3267    390.410231        9.899115        55.069304   4.613843           1  \n",
       "3268    329.266002       16.217303        28.878601   3.442983           1  \n",
       "3269    439.893618       16.172755        41.558501   4.369264           1  \n",
       "3270    415.886955       12.067620        60.419921   3.669712           1  \n",
       "3271    526.424171       13.894419        66.687695   4.435821           1  \n",
       "\n",
       "[2011 rows x 10 columns]"
      ]
     },
     "execution_count": 11,
     "metadata": {},
     "output_type": "execute_result"
    }
   ],
   "source": [
    "data_v1.drop_duplicates()"
   ]
  },
  {
   "cell_type": "code",
   "execution_count": 12,
   "id": "1087b461",
   "metadata": {
    "execution": {
     "iopub.execute_input": "2022-02-08T10:17:23.241969Z",
     "iopub.status.busy": "2022-02-08T10:17:23.228632Z",
     "iopub.status.idle": "2022-02-08T10:17:23.245290Z",
     "shell.execute_reply": "2022-02-08T10:17:23.244738Z",
     "shell.execute_reply.started": "2022-02-08T10:13:54.275686Z"
    },
    "papermill": {
     "duration": 0.049668,
     "end_time": "2022-02-08T10:17:23.245461",
     "exception": false,
     "start_time": "2022-02-08T10:17:23.195793",
     "status": "completed"
    },
    "tags": []
   },
   "outputs": [
    {
     "name": "stdout",
     "output_type": "stream",
     "text": [
      "<class 'pandas.core.frame.DataFrame'>\n",
      "Int64Index: 2011 entries, 3 to 3271\n",
      "Data columns (total 10 columns):\n",
      " #   Column           Non-Null Count  Dtype  \n",
      "---  ------           --------------  -----  \n",
      " 0   ph               2011 non-null   float64\n",
      " 1   Hardness         2011 non-null   float64\n",
      " 2   Solids           2011 non-null   float64\n",
      " 3   Chloramines      2011 non-null   float64\n",
      " 4   Sulfate          2011 non-null   float64\n",
      " 5   Conductivity     2011 non-null   float64\n",
      " 6   Organic_carbon   2011 non-null   float64\n",
      " 7   Trihalomethanes  2011 non-null   float64\n",
      " 8   Turbidity        2011 non-null   float64\n",
      " 9   Potability       2011 non-null   object \n",
      "dtypes: float64(9), object(1)\n",
      "memory usage: 172.8+ KB\n"
     ]
    }
   ],
   "source": [
    "# example to change the data typr\n",
    "\n",
    "a = data_v1.copy()\n",
    "a['Potability'] = a['Potability'].astype(\"object\")\n",
    "a.info()"
   ]
  },
  {
   "cell_type": "code",
   "execution_count": 13,
   "id": "6f755e72",
   "metadata": {
    "execution": {
     "iopub.execute_input": "2022-02-08T10:17:23.302643Z",
     "iopub.status.busy": "2022-02-08T10:17:23.299119Z",
     "iopub.status.idle": "2022-02-08T10:17:23.304993Z",
     "shell.execute_reply": "2022-02-08T10:17:23.305552Z",
     "shell.execute_reply.started": "2022-02-08T10:13:54.298152Z"
    },
    "papermill": {
     "duration": 0.035072,
     "end_time": "2022-02-08T10:17:23.305757",
     "exception": false,
     "start_time": "2022-02-08T10:17:23.270685",
     "status": "completed"
    },
    "tags": []
   },
   "outputs": [
    {
     "data": {
      "text/plain": [
       "0.4032819492789657"
      ]
     },
     "execution_count": 13,
     "metadata": {},
     "output_type": "execute_result"
    }
   ],
   "source": [
    "a['Potability'].mean()"
   ]
  },
  {
   "cell_type": "markdown",
   "id": "2b0a4aac",
   "metadata": {
    "papermill": {
     "duration": 0.02499,
     "end_time": "2022-02-08T10:17:23.356326",
     "exception": false,
     "start_time": "2022-02-08T10:17:23.331336",
     "status": "completed"
    },
    "tags": []
   },
   "source": [
    "in this data, we have new variable called **data_v1** which already dropped the null values and duplicate values. in terms of data type, there is no column that contains wrong data type"
   ]
  },
  {
   "cell_type": "markdown",
   "id": "0f177357",
   "metadata": {
    "papermill": {
     "duration": 0.025178,
     "end_time": "2022-02-08T10:17:23.407575",
     "exception": false,
     "start_time": "2022-02-08T10:17:23.382397",
     "status": "completed"
    },
    "tags": []
   },
   "source": [
    "## Exploratory Data Analysis"
   ]
  },
  {
   "cell_type": "code",
   "execution_count": 14,
   "id": "128ee273",
   "metadata": {
    "execution": {
     "iopub.execute_input": "2022-02-08T10:17:23.469352Z",
     "iopub.status.busy": "2022-02-08T10:17:23.468631Z",
     "iopub.status.idle": "2022-02-08T10:17:23.672863Z",
     "shell.execute_reply": "2022-02-08T10:17:23.672305Z",
     "shell.execute_reply.started": "2022-02-08T10:13:54.310480Z"
    },
    "papermill": {
     "duration": 0.240011,
     "end_time": "2022-02-08T10:17:23.673031",
     "exception": false,
     "start_time": "2022-02-08T10:17:23.433020",
     "status": "completed"
    },
    "tags": []
   },
   "outputs": [
    {
     "data": {
      "text/plain": [
       "(array([  4.,  12.,  84., 353., 915., 898., 382., 116.,  17.,   4.]),\n",
       " array([ 0. ,  1.4,  2.8,  4.2,  5.6,  7. ,  8.4,  9.8, 11.2, 12.6, 14. ]),\n",
       " <BarContainer object of 10 artists>)"
      ]
     },
     "execution_count": 14,
     "metadata": {},
     "output_type": "execute_result"
    },
    {
     "data": {
      "image/png": "[encoded data removed]",
      "text/plain": [
       "<Figure size 432x288 with 1 Axes>"
      ]
     },
     "metadata": {
      "needs_background": "light"
     },
     "output_type": "display_data"
    }
   ],
   "source": [
    "plt.hist(data['ph'])"
   ]
  },
  {
   "cell_type": "code",
   "execution_count": 15,
   "id": "d798782e",
   "metadata": {
    "execution": {
     "iopub.execute_input": "2022-02-08T10:17:23.733496Z",
     "iopub.status.busy": "2022-02-08T10:17:23.732713Z",
     "iopub.status.idle": "2022-02-08T10:17:23.735646Z",
     "shell.execute_reply": "2022-02-08T10:17:23.735084Z",
     "shell.execute_reply.started": "2022-02-08T10:15:45.804401Z"
    },
    "papermill": {
     "duration": 0.036249,
     "end_time": "2022-02-08T10:17:23.735802",
     "exception": false,
     "start_time": "2022-02-08T10:17:23.699553",
     "status": "completed"
    },
    "tags": []
   },
   "outputs": [],
   "source": [
    "# create function to visualize the data without new code\n",
    "def histogram(x):\n",
    "    \"\"\"\n",
    "    this function is to show the distribution of data\n",
    "    \"\"\"\n",
    "    plt.hist(data[x])\n",
    "    plt.show()"
   ]
  },
  {
   "cell_type": "code",
   "execution_count": 16,
   "id": "34c6ec46",
   "metadata": {
    "execution": {
     "iopub.execute_input": "2022-02-08T10:17:23.802617Z",
     "iopub.status.busy": "2022-02-08T10:17:23.801895Z",
     "iopub.status.idle": "2022-02-08T10:17:23.983675Z",
     "shell.execute_reply": "2022-02-08T10:17:23.984223Z",
     "shell.execute_reply.started": "2022-02-08T10:15:47.459003Z"
    },
    "papermill": {
     "duration": 0.220988,
     "end_time": "2022-02-08T10:17:23.984429",
     "exception": false,
     "start_time": "2022-02-08T10:17:23.763441",
     "status": "completed"
    },
    "tags": []
   },
   "outputs": [
    {
     "data": {
      "image/png": "[encoded data removed]",
      "text/plain": [
       "<Figure size 432x288 with 1 Axes>"
      ]
     },
     "metadata": {
      "needs_background": "light"
     },
     "output_type": "display_data"
    }
   ],
   "source": [
    "histogram(x=\"Organic_carbon\")"
   ]
  },
  {
   "cell_type": "code",
   "execution_count": 17,
   "id": "7e512cc9",
   "metadata": {
    "execution": {
     "iopub.execute_input": "2022-02-08T10:17:24.042946Z",
     "iopub.status.busy": "2022-02-08T10:17:24.042051Z",
     "iopub.status.idle": "2022-02-08T10:17:24.271235Z",
     "shell.execute_reply": "2022-02-08T10:17:24.271806Z",
     "shell.execute_reply.started": "2022-02-08T10:15:10.950282Z"
    },
    "papermill": {
     "duration": 0.260278,
     "end_time": "2022-02-08T10:17:24.272034",
     "exception": false,
     "start_time": "2022-02-08T10:17:24.011756",
     "status": "completed"
    },
    "tags": []
   },
   "outputs": [
    {
     "data": {
      "image/png": "[encoded data removed]",
      "text/plain": [
       "<Figure size 432x288 with 1 Axes>"
      ]
     },
     "metadata": {
      "needs_background": "light"
     },
     "output_type": "display_data"
    }
   ],
   "source": [
    "#simple plot\n",
    "sns.kdeplot(data=data_v1, x='Organic_carbon')\n",
    "plt.show()"
   ]
  },
  {
   "cell_type": "code",
   "execution_count": 18,
   "id": "c04685a6",
   "metadata": {
    "execution": {
     "iopub.execute_input": "2022-02-08T10:17:24.336476Z",
     "iopub.status.busy": "2022-02-08T10:17:24.335721Z",
     "iopub.status.idle": "2022-02-08T10:17:24.338608Z",
     "shell.execute_reply": "2022-02-08T10:17:24.339115Z",
     "shell.execute_reply.started": "2022-02-08T10:15:13.847025Z"
    },
    "papermill": {
     "duration": 0.038884,
     "end_time": "2022-02-08T10:17:24.339339",
     "exception": false,
     "start_time": "2022-02-08T10:17:24.300455",
     "status": "completed"
    },
    "tags": []
   },
   "outputs": [
    {
     "data": {
      "text/plain": [
       "Index(['ph', 'Hardness', 'Solids', 'Chloramines', 'Sulfate', 'Conductivity',\n",
       "       'Organic_carbon', 'Trihalomethanes', 'Turbidity', 'Potability'],\n",
       "      dtype='object')"
      ]
     },
     "execution_count": 18,
     "metadata": {},
     "output_type": "execute_result"
    }
   ],
   "source": [
    "data_v1.columns"
   ]
  },
  {
   "cell_type": "code",
   "execution_count": 19,
   "id": "012755e5",
   "metadata": {
    "execution": {
     "iopub.execute_input": "2022-02-08T10:17:24.406897Z",
     "iopub.status.busy": "2022-02-08T10:17:24.406134Z",
     "iopub.status.idle": "2022-02-08T10:17:26.152225Z",
     "shell.execute_reply": "2022-02-08T10:17:26.152745Z",
     "shell.execute_reply.started": "2022-02-08T10:14:44.070110Z"
    },
    "papermill": {
     "duration": 1.785049,
     "end_time": "2022-02-08T10:17:26.152942",
     "exception": false,
     "start_time": "2022-02-08T10:17:24.367893",
     "status": "completed"
    },
    "tags": []
   },
   "outputs": [
    {
     "data": {
      "image/png": "[encoded data removed]",
      "text/plain": [
       "<Figure size 864x720 with 9 Axes>"
      ]
     },
     "metadata": {
      "needs_background": "light"
     },
     "output_type": "display_data"
    }
   ],
   "source": [
    "# create function to show the density of the data in distribution\n",
    "columns = ['ph', 'Hardness', 'Solids', 'Chloramines', 'Sulfate', 'Conductivity',\n",
    "       'Organic_carbon', 'Trihalomethanes', 'Turbidity']\n",
    "\n",
    "fig, axes = plt.subplots(3, 3, figsize=(12,10))\n",
    "axes = [ax for axes_row in axes for ax in axes_row]\n",
    "\n",
    "for i, col in enumerate(columns):\n",
    "    plot = sns.kdeplot(data=data_v1, x=col, ax=axes[i])\n",
    "plt.tight_layout()"
   ]
  },
  {
   "cell_type": "code",
   "execution_count": null,
   "id": "462471bf",
   "metadata": {
    "papermill": {
     "duration": 0.032413,
     "end_time": "2022-02-08T10:17:26.217166",
     "exception": false,
     "start_time": "2022-02-08T10:17:26.184753",
     "status": "completed"
    },
    "tags": []
   },
   "outputs": [],
   "source": []
  }
 ],
 "metadata": {
  "kernelspec": {
   "display_name": "Python 3",
   "language": "python",
   "name": "python3"
  },
  "language_info": {
   "codemirror_mode": {
    "name": "ipython",
    "version": 3
   },
   "file_extension": ".py",
   "mimetype": "text/x-python",
   "name": "python",
   "nbconvert_exporter": "python",
   "pygments_lexer": "ipython3",
   "version": "3.7.12"
  },
  "papermill": {
   "default_parameters": {},
   "duration": 16.79521,
   "end_time": "2022-02-08T10:17:27.362049",
   "environment_variables": {},
   "exception": null,
   "input_path": "__notebook__.ipynb",
   "output_path": "__notebook__.ipynb",
   "parameters": {},
   "start_time": "2022-02-08T10:17:10.566839",
   "version": "2.3.3"
  }
 },
 "nbformat": 4,
 "nbformat_minor": 5
}
