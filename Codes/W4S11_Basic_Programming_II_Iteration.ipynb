{
  "nbformat": 4,
  "nbformat_minor": 0,
  "metadata": {
    "colab": {
      "name": "Basic Programming II:  Iteration",
      "provenance": [],
      "collapsed_sections": []
    },
    "kernelspec": {
      "name": "python3",
      "display_name": "Python 3"
    },
    "language_info": {
      "name": "python"
    }
  },
  "cells": [
    {
      "cell_type": "markdown",
      "source": [
        "# LOOP\n",
        "1. Iterate until a certain condition is reached.  biasanya pake while loop\n",
        "2. Iterate until certain number of times.  biasanya pake for loop\n",
        "3. Iterate through elements in a list or array. biasanya pake for loop\n",
        "\n",
        "The inner loop will be fully executed for each iteration of the outer loop."
      ],
      "metadata": {
        "id": "DMIVNFegST8g"
      }
    },
    {
      "cell_type": "markdown",
      "source": [
        "## Loop Control\n",
        "\n",
        "Sometimes, instead of following our loop condition, we just want to do another thing\n",
        "besides of our defined loop condition. These statements might help.\n",
        "- break, will terminate the current loop and continue to the next line after the\n",
        "loop\n",
        "- continue, will reject the remaining statements in the current loop and continue\n",
        "to the next iteration\n",
        "- pass, used when a statement is required syntactically but do not want any code\n",
        "to be executed\n"
      ],
      "metadata": {
        "id": "sftd4NLFVyo6"
      }
    },
    {
      "cell_type": "code",
      "source": [
        "#for loop\n",
        "#Iterate until certain number of times\n",
        "\n",
        "#syntax\n",
        "# for <variable> in range(anga start, angka end):\n",
        "#   <statement>  \n",
        "\n",
        "for i in range(0,10):\n",
        "  print('index ke', i)"
      ],
      "metadata": {
        "colab": {
          "base_uri": "https://localhost:8080/"
        },
        "id": "jzsv6IyTXCCa",
        "outputId": "0a77d36c-9501-499e-fad4-f7e69b1b7ff1"
      },
      "execution_count": null,
      "outputs": [
        {
          "output_type": "stream",
          "name": "stdout",
          "text": [
            "index ke 0\n",
            "index ke 1\n",
            "index ke 2\n",
            "index ke 3\n",
            "index ke 4\n",
            "index ke 5\n",
            "index ke 6\n",
            "index ke 7\n",
            "index ke 8\n",
            "index ke 9\n"
          ]
        }
      ]
    },
    {
      "cell_type": "code",
      "source": [
        "nama_siswa = ['krian', 'roni', 'bayu', 'farhan']\n",
        "\n",
        "for variable in(nama_siswa):\n",
        "  print(variable)"
      ],
      "metadata": {
        "colab": {
          "base_uri": "https://localhost:8080/"
        },
        "id": "pIMpzJebU0aH",
        "outputId": "3d282d1a-e424-483a-e819-29cb00eba60f"
      },
      "execution_count": 1,
      "outputs": [
        {
          "output_type": "stream",
          "name": "stdout",
          "text": [
            "krian\n",
            "roni\n",
            "bayu\n",
            "farhan\n"
          ]
        }
      ]
    },
    {
      "cell_type": "code",
      "source": [
        "nama_siswa = ['krian', 'roni', 'bayu', 'farhan']\n",
        "\n",
        "index = 0\n",
        "for variable in(nama_siswa):\n",
        "  index += 1\n",
        "  print('absen :', index)\n",
        "  print('nama :', variable)"
      ],
      "metadata": {
        "colab": {
          "base_uri": "https://localhost:8080/"
        },
        "id": "wlj2FCN6X9gv",
        "outputId": "a53464a5-f7c2-4134-faea-eaa2f89c2877"
      },
      "execution_count": null,
      "outputs": [
        {
          "output_type": "stream",
          "name": "stdout",
          "text": [
            "absen : 1\n",
            "nama : krian\n",
            "absen : 2\n",
            "nama : roni\n",
            "absen : 3\n",
            "nama : bayu\n",
            "absen : 4\n",
            "nama : farhan\n"
          ]
        }
      ]
    },
    {
      "cell_type": "code",
      "source": [
        "data_siswa = {'name': 'krian',\n",
        "              'absen': 1}\n",
        "\n",
        "for key, value in(data_siswa).items():\n",
        "  print(key, value)"
      ],
      "metadata": {
        "colab": {
          "base_uri": "https://localhost:8080/"
        },
        "id": "LjwZKfloZ_Gm",
        "outputId": "9e571ce2-d770-4d3b-a8d4-34f0709d4ad3"
      },
      "execution_count": null,
      "outputs": [
        {
          "output_type": "stream",
          "name": "stdout",
          "text": [
            "name krian\n",
            "absen 1\n"
          ]
        }
      ]
    },
    {
      "cell_type": "code",
      "source": [
        "data_siswa_list = [{'name': 'krian',\n",
        "                    'absen': '1'},\n",
        "                   {'name': 'bayu',\n",
        "                    'absen': '2'},\n",
        "                   {'name': 'farhan',\n",
        "                    'absen': '3'}]\n",
        "\n",
        "for item in(data_siswa_list):\n",
        "  for key, value in(item).items():\n",
        "    print(key, value)"
      ],
      "metadata": {
        "id": "uRUHVnVtaEj7",
        "colab": {
          "base_uri": "https://localhost:8080/"
        },
        "outputId": "306822c3-e176-4860-b8e4-b7ec5164233a"
      },
      "execution_count": 5,
      "outputs": [
        {
          "output_type": "stream",
          "name": "stdout",
          "text": [
            "name krian\n",
            "absen 1\n",
            "name bayu\n",
            "absen 2\n",
            "name farhan\n",
            "absen 3\n"
          ]
        }
      ]
    },
    {
      "cell_type": "code",
      "source": [
        "data_siswa_list = [{'name': 'krian',\n",
        "                    'absen': '1'},\n",
        "                   {'name': 'bayu',\n",
        "                    'absen': '2'},\n",
        "                   {'name': 'farhan',\n",
        "                    'absen': '3'}]\n",
        "\n",
        "for item in(data_siswa_list):\n",
        "  print('ini list :')\n",
        "  print('item dari list :', item)\n",
        "  for key, value in(item).items():\n",
        "    print(key, value)\n",
        "  print('\\n')"
      ],
      "metadata": {
        "colab": {
          "base_uri": "https://localhost:8080/"
        },
        "id": "CHdqgMs7WikO",
        "outputId": "b6a8fc68-3fe3-4b8a-b6dd-bd96c784dc53"
      },
      "execution_count": 7,
      "outputs": [
        {
          "output_type": "stream",
          "name": "stdout",
          "text": [
            "ini list :\n",
            "item dari list : {'name': 'krian', 'absen': '1'}\n",
            "name krian\n",
            "absen 1\n",
            "\n",
            "\n",
            "ini list :\n",
            "item dari list : {'name': 'bayu', 'absen': '2'}\n",
            "name bayu\n",
            "absen 2\n",
            "\n",
            "\n",
            "ini list :\n",
            "item dari list : {'name': 'farhan', 'absen': '3'}\n",
            "name farhan\n",
            "absen 3\n",
            "\n",
            "\n"
          ]
        }
      ]
    },
    {
      "cell_type": "code",
      "source": [
        "data_siswa_list = [{'name': 'krian',\n",
        "                    'absen': '1'},\n",
        "                   \n",
        "                   {'name': 'bayu',\n",
        "                    'absen': '2'},\n",
        "                   \n",
        "                   {'name': 'farhan',\n",
        "                    'absen': '3'}]\n",
        "\n",
        "x = 0\n",
        "\n",
        "for item in(data_siswa_list):\n",
        "  print('ini list :')\n",
        "  print('item dari list :', item)\n",
        "  for key, value in(item).items():\n",
        "    if x == 1:\n",
        "      break\n",
        "    print(key, value)\n",
        "    x += 1\n",
        "  print('\\n')"
      ],
      "metadata": {
        "colab": {
          "base_uri": "https://localhost:8080/"
        },
        "id": "pfJalR3vXGxq",
        "outputId": "c7466c28-3dbc-4adf-abbe-221c82e2a742"
      },
      "execution_count": 8,
      "outputs": [
        {
          "output_type": "stream",
          "name": "stdout",
          "text": [
            "ini list :\n",
            "item dari list : {'name': 'krian', 'absen': '1'}\n",
            "name krian\n",
            "\n",
            "\n",
            "ini list :\n",
            "item dari list : {'name': 'bayu', 'absen': '2'}\n",
            "\n",
            "\n",
            "ini list :\n",
            "item dari list : {'name': 'farhan', 'absen': '3'}\n",
            "\n",
            "\n"
          ]
        }
      ]
    },
    {
      "cell_type": "code",
      "source": [
        "# buatlah syntax pemrograman untuk print angka ganjil diantara 1 sampe 20\n",
        "\n",
        "for i in range(0, 10):\n",
        "  for j in range(0, 10):\n",
        "    j += j\n",
        "    print(j)\n",
        "  i *= 10\n",
        "  i += 1"
      ],
      "metadata": {
        "id": "NsT5GQiyga5b",
        "colab": {
          "base_uri": "https://localhost:8080/"
        },
        "outputId": "cdb73dc7-841f-4fdf-d85d-cb88ddeff822"
      },
      "execution_count": 9,
      "outputs": [
        {
          "output_type": "stream",
          "name": "stdout",
          "text": [
            "0\n",
            "2\n",
            "4\n",
            "6\n",
            "8\n",
            "10\n",
            "12\n",
            "14\n",
            "16\n",
            "18\n",
            "0\n",
            "2\n",
            "4\n",
            "6\n",
            "8\n",
            "10\n",
            "12\n",
            "14\n",
            "16\n",
            "18\n",
            "0\n",
            "2\n",
            "4\n",
            "6\n",
            "8\n",
            "10\n",
            "12\n",
            "14\n",
            "16\n",
            "18\n",
            "0\n",
            "2\n",
            "4\n",
            "6\n",
            "8\n",
            "10\n",
            "12\n",
            "14\n",
            "16\n",
            "18\n",
            "0\n",
            "2\n",
            "4\n",
            "6\n",
            "8\n",
            "10\n",
            "12\n",
            "14\n",
            "16\n",
            "18\n",
            "0\n",
            "2\n",
            "4\n",
            "6\n",
            "8\n",
            "10\n",
            "12\n",
            "14\n",
            "16\n",
            "18\n",
            "0\n",
            "2\n",
            "4\n",
            "6\n",
            "8\n",
            "10\n",
            "12\n",
            "14\n",
            "16\n",
            "18\n",
            "0\n",
            "2\n",
            "4\n",
            "6\n",
            "8\n",
            "10\n",
            "12\n",
            "14\n",
            "16\n",
            "18\n",
            "0\n",
            "2\n",
            "4\n",
            "6\n",
            "8\n",
            "10\n",
            "12\n",
            "14\n",
            "16\n",
            "18\n",
            "0\n",
            "2\n",
            "4\n",
            "6\n",
            "8\n",
            "10\n",
            "12\n",
            "14\n",
            "16\n",
            "18\n"
          ]
        }
      ]
    },
    {
      "cell_type": "code",
      "source": [
        "for i in range(0, 10):\n",
        "  print(i + 1)"
      ],
      "metadata": {
        "colab": {
          "base_uri": "https://localhost:8080/"
        },
        "id": "6UNi70MYZO5M",
        "outputId": "04810b26-e2bb-4b54-e8c5-d3183092d2d9"
      },
      "execution_count": 12,
      "outputs": [
        {
          "output_type": "stream",
          "name": "stdout",
          "text": [
            "1\n",
            "2\n",
            "3\n",
            "4\n",
            "5\n",
            "6\n",
            "7\n",
            "8\n",
            "9\n",
            "10\n"
          ]
        }
      ]
    },
    {
      "cell_type": "code",
      "source": [
        "index = 0\n",
        "while index < 10:\n",
        "  index += 1\n",
        "  print(index)"
      ],
      "metadata": {
        "colab": {
          "base_uri": "https://localhost:8080/"
        },
        "id": "rAY8YI6dZjaR",
        "outputId": "a190098d-9bdb-4224-e7be-5a78aff6fb98"
      },
      "execution_count": 13,
      "outputs": [
        {
          "output_type": "stream",
          "name": "stdout",
          "text": [
            "1\n",
            "2\n",
            "3\n",
            "4\n",
            "5\n",
            "6\n",
            "7\n",
            "8\n",
            "9\n",
            "10\n"
          ]
        }
      ]
    },
    {
      "cell_type": "code",
      "source": [
        "# syntax print angka ganjil \n",
        "for angka in range(0, 20):\n",
        "  if angka % 2 != 0:\n",
        "    print(angka)\n"
      ],
      "metadata": {
        "colab": {
          "base_uri": "https://localhost:8080/"
        },
        "id": "_kZZTDqecIcI",
        "outputId": "7e1b75e6-f46a-4efc-eaf2-ef7dd158d763"
      },
      "execution_count": 14,
      "outputs": [
        {
          "output_type": "stream",
          "name": "stdout",
          "text": [
            "1\n",
            "3\n",
            "5\n",
            "7\n",
            "9\n",
            "11\n",
            "13\n",
            "15\n",
            "17\n",
            "19\n"
          ]
        }
      ]
    },
    {
      "cell_type": "code",
      "source": [
        "# syntax print angka ganjil \n",
        "num = int(input(\" Please Enter any Maximum Number : \"))\n",
        " \n",
        "for number in range(1, num + 1):\n",
        "    if(number % 2 != 0):\n",
        "        print(\"{0}\".format(number))"
      ],
      "metadata": {
        "colab": {
          "base_uri": "https://localhost:8080/"
        },
        "id": "yXsuoPv5g0GC",
        "outputId": "9042dcaa-4bf6-4803-ff3b-45ce77e8dd33"
      },
      "execution_count": null,
      "outputs": [
        {
          "output_type": "stream",
          "name": "stdout",
          "text": [
            " Please Enter any Maximum Number : 20\n",
            "1\n",
            "3\n",
            "5\n",
            "7\n",
            "9\n",
            "11\n",
            "13\n",
            "15\n",
            "17\n",
            "19\n"
          ]
        }
      ]
    },
    {
      "cell_type": "code",
      "source": [
        "# syntax print angka ganjil dibawah 200\n",
        "\n",
        "trigger = True\n",
        "counter_bilangan = 0\n",
        "counter_bilangan_ganjil = 0\n",
        "\n",
        "while trigger:\n",
        "  counter_bilangan += 1\n",
        "  if counter_bilangan % 2 != 0:\n",
        "    print(counter_bilangan)\n",
        "    counter_bilangan_ganjil += 1\n",
        "\n",
        "    if counter_bilangan_ganjil == 100:\n",
        "      trigger = False\n"
      ],
      "metadata": {
        "colab": {
          "base_uri": "https://localhost:8080/"
        },
        "id": "aR1vjIVsdE3j",
        "outputId": "e0d7d83e-fa45-4fe7-be98-e9d1d909264a"
      },
      "execution_count": 16,
      "outputs": [
        {
          "output_type": "stream",
          "name": "stdout",
          "text": [
            "1\n",
            "3\n",
            "5\n",
            "7\n",
            "9\n",
            "11\n",
            "13\n",
            "15\n",
            "17\n",
            "19\n",
            "21\n",
            "23\n",
            "25\n",
            "27\n",
            "29\n",
            "31\n",
            "33\n",
            "35\n",
            "37\n",
            "39\n",
            "41\n",
            "43\n",
            "45\n",
            "47\n",
            "49\n",
            "51\n",
            "53\n",
            "55\n",
            "57\n",
            "59\n",
            "61\n",
            "63\n",
            "65\n",
            "67\n",
            "69\n",
            "71\n",
            "73\n",
            "75\n",
            "77\n",
            "79\n",
            "81\n",
            "83\n",
            "85\n",
            "87\n",
            "89\n",
            "91\n",
            "93\n",
            "95\n",
            "97\n",
            "99\n",
            "101\n",
            "103\n",
            "105\n",
            "107\n",
            "109\n",
            "111\n",
            "113\n",
            "115\n",
            "117\n",
            "119\n",
            "121\n",
            "123\n",
            "125\n",
            "127\n",
            "129\n",
            "131\n",
            "133\n",
            "135\n",
            "137\n",
            "139\n",
            "141\n",
            "143\n",
            "145\n",
            "147\n",
            "149\n",
            "151\n",
            "153\n",
            "155\n",
            "157\n",
            "159\n",
            "161\n",
            "163\n",
            "165\n",
            "167\n",
            "169\n",
            "171\n",
            "173\n",
            "175\n",
            "177\n",
            "179\n",
            "181\n",
            "183\n",
            "185\n",
            "187\n",
            "189\n",
            "191\n",
            "193\n",
            "195\n",
            "197\n",
            "199\n"
          ]
        }
      ]
    },
    {
      "cell_type": "code",
      "source": [
        "# syntax print angka ganjil dibawah 200\n",
        "\n",
        "treshold_num = 200\n",
        "number = 1\n",
        "\n",
        "while number <= num:\n",
        "    if(number % 2 != 0):\n",
        "        print(number)\n",
        "    number += 1"
      ],
      "metadata": {
        "colab": {
          "base_uri": "https://localhost:8080/"
        },
        "id": "qRmIHvwfiris",
        "outputId": "7f593d53-c491-45ce-f0bb-e71691bb16d9"
      },
      "execution_count": null,
      "outputs": [
        {
          "output_type": "stream",
          "name": "stdout",
          "text": [
            "1\n",
            "3\n",
            "5\n",
            "7\n",
            "9\n",
            "11\n",
            "13\n",
            "15\n",
            "17\n",
            "19\n",
            "21\n",
            "23\n",
            "25\n",
            "27\n",
            "29\n",
            "31\n",
            "33\n",
            "35\n",
            "37\n",
            "39\n",
            "41\n",
            "43\n",
            "45\n",
            "47\n",
            "49\n",
            "51\n",
            "53\n",
            "55\n",
            "57\n",
            "59\n",
            "61\n",
            "63\n",
            "65\n",
            "67\n",
            "69\n",
            "71\n",
            "73\n",
            "75\n",
            "77\n",
            "79\n",
            "81\n",
            "83\n",
            "85\n",
            "87\n",
            "89\n",
            "91\n",
            "93\n",
            "95\n",
            "97\n",
            "99\n",
            "101\n",
            "103\n",
            "105\n",
            "107\n",
            "109\n",
            "111\n",
            "113\n",
            "115\n",
            "117\n",
            "119\n",
            "121\n",
            "123\n",
            "125\n",
            "127\n",
            "129\n",
            "131\n",
            "133\n",
            "135\n",
            "137\n",
            "139\n",
            "141\n",
            "143\n",
            "145\n",
            "147\n",
            "149\n",
            "151\n",
            "153\n",
            "155\n",
            "157\n",
            "159\n",
            "161\n",
            "163\n",
            "165\n",
            "167\n",
            "169\n",
            "171\n",
            "173\n",
            "175\n",
            "177\n",
            "179\n",
            "181\n",
            "183\n",
            "185\n",
            "187\n",
            "189\n",
            "191\n",
            "193\n",
            "195\n",
            "197\n",
            "199\n"
          ]
        }
      ]
    },
    {
      "cell_type": "code",
      "source": [
        "for number in range(0, 20):\n",
        "  if(number % 2 == 0):\n",
        "    print(\"{0}\".format(number))"
      ],
      "metadata": {
        "colab": {
          "base_uri": "https://localhost:8080/"
        },
        "id": "35m8up0GhKUo",
        "outputId": "58189926-cb50-4c1a-b0f8-77bc5579af00"
      },
      "execution_count": null,
      "outputs": [
        {
          "output_type": "stream",
          "name": "stdout",
          "text": [
            "0\n",
            "2\n",
            "4\n",
            "6\n",
            "8\n",
            "10\n",
            "12\n",
            "14\n",
            "16\n",
            "18\n"
          ]
        }
      ]
    },
    {
      "cell_type": "code",
      "source": [
        "for angka in range(0, 20):\n",
        "  if angka % 2 != 0:\n",
        "    print(angka)"
      ],
      "metadata": {
        "colab": {
          "base_uri": "https://localhost:8080/"
        },
        "id": "zUPRhl_EibJX",
        "outputId": "90604997-5946-4c18-8a7a-3b7a24972da7"
      },
      "execution_count": null,
      "outputs": [
        {
          "output_type": "stream",
          "name": "stdout",
          "text": [
            "1\n",
            "3\n",
            "5\n",
            "7\n",
            "9\n",
            "11\n",
            "13\n",
            "15\n",
            "17\n",
            "19\n"
          ]
        }
      ]
    },
    {
      "cell_type": "code",
      "source": [
        "trigger = True\n",
        "a = 0\n",
        "b = 1\n",
        "c = 1\n",
        "\n",
        "while trigger:\n",
        "  if c < 20:\n",
        "    print(c)\n",
        "  else:\n",
        "    trigger = False\n",
        "  c = a + b\n",
        "  a = b\n",
        "  b = c "
      ],
      "metadata": {
        "colab": {
          "base_uri": "https://localhost:8080/"
        },
        "id": "q1IHzyu9eo1D",
        "outputId": "cfb25eec-9437-45c3-9760-95606c81cc42"
      },
      "execution_count": 17,
      "outputs": [
        {
          "output_type": "stream",
          "name": "stdout",
          "text": [
            "1\n",
            "1\n",
            "2\n",
            "3\n",
            "5\n",
            "8\n",
            "13\n"
          ]
        }
      ]
    },
    {
      "cell_type": "code",
      "source": [
        "def fib(n):\n",
        "    a = 0\n",
        "    b = 1\n",
        "    if n == 1:\n",
        "        print(a)\n",
        "    else:\n",
        "        print(a)\n",
        "        print(b)\n",
        "        for i in range(2,n):\n",
        "            c = a + b\n",
        "            a = b\n",
        "            b = c\n",
        "            print(c)\n",
        "fib(20)"
      ],
      "metadata": {
        "colab": {
          "base_uri": "https://localhost:8080/"
        },
        "id": "gmKD0NfCin3I",
        "outputId": "e7c656b2-fea2-45d3-dd94-40f88b1c1f09"
      },
      "execution_count": null,
      "outputs": [
        {
          "output_type": "stream",
          "name": "stdout",
          "text": [
            "0\n",
            "1\n",
            "1\n",
            "2\n",
            "3\n",
            "5\n",
            "8\n",
            "13\n",
            "21\n",
            "34\n",
            "55\n",
            "89\n",
            "144\n",
            "233\n",
            "377\n",
            "610\n",
            "987\n",
            "1597\n",
            "2584\n",
            "4181\n"
          ]
        }
      ]
    },
    {
      "cell_type": "code",
      "source": [
        "for i in range(0, 10):\n",
        "  if i == 10:\n",
        "    print('10 adalah nomor punggung lionel messi')"
      ],
      "metadata": {
        "id": "uG1q8O221hBq"
      },
      "execution_count": null,
      "outputs": []
    },
    {
      "cell_type": "code",
      "source": [
        "range(0,10):"
      ],
      "metadata": {
        "id": "oUTgme8k2T1Q"
      },
      "execution_count": null,
      "outputs": []
    }
  ]
}