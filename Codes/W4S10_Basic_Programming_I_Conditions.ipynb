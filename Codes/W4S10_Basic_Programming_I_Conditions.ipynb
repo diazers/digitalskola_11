{
  "nbformat": 4,
  "nbformat_minor": 0,
  "metadata": {
    "colab": {
      "name": "Basic Programming I  Conditions",
      "provenance": [],
      "collapsed_sections": []
    },
    "kernelspec": {
      "name": "python3",
      "display_name": "Python 3"
    },
    "language_info": {
      "name": "python"
    }
  },
  "cells": [
    {
      "cell_type": "code",
      "source": [
        "# Single Condition (If)\n",
        "\n",
        "a = 3\n",
        "if a == 3:\n",
        "  print(\"a is three\")"
      ],
      "metadata": {
        "colab": {
          "base_uri": "https://localhost:8080/"
        },
        "id": "avjLs-9GCqB5",
        "outputId": "e627c3c4-2824-4901-c106-39ee8b762bd0"
      },
      "execution_count": null,
      "outputs": [
        {
          "output_type": "stream",
          "name": "stdout",
          "text": [
            "a is three\n"
          ]
        }
      ]
    },
    {
      "cell_type": "code",
      "source": [
        "is_cat_hungry = True\n",
        "\n",
        "if is_cat_hungry:\n",
        "  print('feed the cat')\n",
        "\n",
        "# apabila variabelnya diasign denga tipe boolean (True atau False)\n",
        "# maka tidak perlu memakai tanda '=='"
      ],
      "metadata": {
        "colab": {
          "base_uri": "https://localhost:8080/"
        },
        "id": "Z3Us7SayGZax",
        "outputId": "f22f6ee5-5192-44f9-ff7f-441e729302f9"
      },
      "execution_count": null,
      "outputs": [
        {
          "output_type": "stream",
          "name": "stdout",
          "text": [
            "feed the cat\n"
          ]
        }
      ]
    },
    {
      "cell_type": "code",
      "source": [
        "# Two Condition (If -> Else)\n",
        "\n",
        "a = 5\n",
        "b = 5\n",
        "if a != b:\n",
        "  print(\"a and b is not the same\")\n",
        "else:\n",
        "  print(\"a and b is the same\")"
      ],
      "metadata": {
        "colab": {
          "base_uri": "https://localhost:8080/"
        },
        "id": "HWdLytKrDygN",
        "outputId": "b0bceab1-608f-4e92-a281-920be1810d49"
      },
      "execution_count": null,
      "outputs": [
        {
          "output_type": "stream",
          "name": "stdout",
          "text": [
            "a and b is the same\n"
          ]
        }
      ]
    },
    {
      "cell_type": "code",
      "source": [
        "cat_condition = 'want to play'\n",
        "\n",
        "if cat_condition == 'hungry':\n",
        "  print('feed the cat')\n",
        "elif cat_condition == 'thirsty':\n",
        "  print('give water to the cat')\n",
        "else:\n",
        "  print(\"don't know what to do\")"
      ],
      "metadata": {
        "colab": {
          "base_uri": "https://localhost:8080/"
        },
        "id": "nM_Y3xVyG7_Y",
        "outputId": "d4619f72-da80-4e04-c0a9-25285fa4cd66"
      },
      "execution_count": null,
      "outputs": [
        {
          "output_type": "stream",
          "name": "stdout",
          "text": [
            "don't know what to do\n"
          ]
        }
      ]
    },
    {
      "cell_type": "code",
      "source": [
        "# Multiple Condition (If -> Elif -> Else)\n",
        "\n",
        "a = 5\n",
        "b = 5\n",
        "if a != b:\n",
        "  print(\"a and b is not the same\")\n",
        "else:\n",
        "  print(\"a and b is the same\")"
      ],
      "metadata": {
        "colab": {
          "base_uri": "https://localhost:8080/"
        },
        "id": "3kvGiFgtEAjH",
        "outputId": "13514ade-eee9-4050-bf3f-171e04ab5f22"
      },
      "execution_count": null,
      "outputs": [
        {
          "output_type": "stream",
          "name": "stdout",
          "text": [
            "a and b is the same\n"
          ]
        }
      ]
    },
    {
      "cell_type": "code",
      "source": [
        "# multiple condition dan nested if\n",
        "# dalam negeri / luar negeri\n",
        "tujuan = 'dalam negeri'\n",
        "akomodasi = 'pesawat'\n",
        "total_peserta = 5\n",
        "\n",
        "if tujuan == 'dalam negeri' and akomodasi == 'pesawat':\n",
        "  if total_peserta < 5:\n",
        "    print(\"perkiraan budget maskima adalah 4 juta rupiah\")\n",
        "  else:\n",
        "    print(\"perkiraan budget maskima adalah 8 juta rupiah\")\n",
        "elif tujuan == 'dalam negeri' and akomodasi == 'mobil':\n",
        "  print(\"perkiraan budget maskima adalah 800 ribu rupiah\")"
      ],
      "metadata": {
        "colab": {
          "base_uri": "https://localhost:8080/"
        },
        "id": "HEBQcFfPHrLH",
        "outputId": "106d900b-32e6-4eba-c2e3-93168793e24f"
      },
      "execution_count": null,
      "outputs": [
        {
          "output_type": "stream",
          "name": "stdout",
          "text": [
            "perkiraan budget maskima adalah 8 juta rupiah\n"
          ]
        }
      ]
    },
    {
      "cell_type": "code",
      "source": [
        "# multiple condition dan nested if\n",
        "# dalam negeri / luar negeri\n",
        "tujuan = 'Luar negeri'\n",
        "tujuan_negara = 'Belanda'\n",
        "akomodasi = 'pesawat'\n",
        "total_peserta = 7\n",
        "\n",
        "if tujuan == 'Luar negeri' and akomodasi == 'pesawat' and (tujuan_negara == 'Belanda' or tujuan_negara == 'Spanyol')\\\n",
        "  and total_peserta < 5:\n",
        "  print(\"perkiraan budget maskimal adalah 30 juta rupiah\")\n",
        "elif tujuan == 'Luar negeri' and akomodasi == 'pesawat' and (tujuan_negara == 'Belanda' or tujuan_negara == 'Spanyol')\\\n",
        "  and total_peserta > 5:\n",
        "  (\"perkiraan budget maskimal adalah 80 juta rupiah\")\n"
      ],
      "metadata": {
        "id": "Oop6JnkSJgAn"
      },
      "execution_count": null,
      "outputs": []
    },
    {
      "cell_type": "code",
      "source": [
        "# untuk kondisi negasi bisa menggunakan !=\n",
        "\n",
        "x != 'b'\n",
        "if x != 'a':\n",
        "  print('Not A')"
      ],
      "metadata": {
        "colab": {
          "base_uri": "https://localhost:8080/"
        },
        "id": "RMDHThPyMS3V",
        "outputId": "2590453a-360e-44ef-e5e9-b18a9eb9a37f"
      },
      "execution_count": null,
      "outputs": [
        {
          "output_type": "stream",
          "name": "stdout",
          "text": [
            "Not A\n"
          ]
        }
      ]
    },
    {
      "cell_type": "code",
      "source": [
        "# # untuk kondisi negasi bisa menggunakan not ==\n",
        "\n",
        "if not(x == 'a'):\n",
        "  print('Not a')"
      ],
      "metadata": {
        "colab": {
          "base_uri": "https://localhost:8080/"
        },
        "id": "6cn1ho70Mhab",
        "outputId": "ce723452-83d1-4172-a397-bd4d490b9399"
      },
      "execution_count": null,
      "outputs": [
        {
          "output_type": "stream",
          "name": "stdout",
          "text": [
            "Not a\n"
          ]
        }
      ]
    },
    {
      "cell_type": "code",
      "source": [
        "# Multiple Expression\n",
        "a = 3\n",
        "b = 7\n",
        "c = 20\n",
        "if a < b and b < c:\n",
        "  print(\"a is smaller than b\")\n",
        "\n",
        "# sama seperti single expression\n",
        "\"\"\"\n",
        "a = 3\n",
        "if a == 3:\n",
        "  print(\"a is three\")\n",
        "\"\"\""
      ],
      "metadata": {
        "colab": {
          "base_uri": "https://localhost:8080/",
          "height": 53
        },
        "id": "FrZh9i_TEXlC",
        "outputId": "edde2446-a53f-456a-8695-829171fbcce9"
      },
      "execution_count": null,
      "outputs": [
        {
          "output_type": "stream",
          "name": "stdout",
          "text": [
            "a is smaller than b\n"
          ]
        },
        {
          "output_type": "execute_result",
          "data": {
            "application/vnd.google.colaboratory.intrinsic+json": {
              "type": "string"
            },
            "text/plain": [
              "'\\na = 3 \\n\\nif a == 3:\\n  print(\"a is three\")\\n'"
            ]
          },
          "metadata": {},
          "execution_count": 16
        }
      ]
    },
    {
      "cell_type": "code",
      "source": [
        "# “IF” Statement [Shorthand]\n",
        "\n",
        "a = 3\n",
        "if a == 3: print(\"a is three\")\n",
        "\n",
        "# sama seperti multiple expression\n",
        "\"\"\"\n",
        "if else\n",
        "a = 5\n",
        "b = 5\n",
        "if a == b:\n",
        "  print(\"same\")\n",
        "else:\n",
        "  print(\"different\")\n",
        "  \"\"\""
      ],
      "metadata": {
        "colab": {
          "base_uri": "https://localhost:8080/"
        },
        "id": "vH1-nrHaEkOX",
        "outputId": "299526a7-7b93-43ab-9f60-2ce7e83d9ee6"
      },
      "execution_count": null,
      "outputs": [
        {
          "output_type": "stream",
          "name": "stdout",
          "text": [
            "a is three\n"
          ]
        }
      ]
    },
    {
      "cell_type": "code",
      "source": [
        "# “IF” Statement [Shorthand]\n",
        "\n",
        "a = 5\n",
        "b = 5\n",
        "print(\"same\") if a==b else print(\"different\")\n",
        "\n",
        "# sama kaya\n",
        "\"\"\"\n",
        "if else\n",
        "a = 5\n",
        "b = 5\n",
        "if a == b:\n",
        "  print(\"same\")\n",
        "else:\n",
        "  print(\"different\")\n",
        "\"\"\""
      ],
      "metadata": {
        "colab": {
          "base_uri": "https://localhost:8080/"
        },
        "id": "B8OLdFspE3ml",
        "outputId": "ea0e10c7-f314-4221-b7bd-93a5728deb89"
      },
      "execution_count": null,
      "outputs": [
        {
          "output_type": "stream",
          "name": "stdout",
          "text": [
            "same\n"
          ]
        }
      ]
    },
    {
      "cell_type": "code",
      "source": [
        "# “IF” Statement [Nested]\n",
        "\n",
        "x = 50\n",
        "if x > 20:\n",
        "  print(\"Above twenty, \")\n",
        "  if x > 40:\n",
        "    print(\"and also above 40\")\n",
        "  else:\n",
        "    print(\"but not above 40\")\n",
        "else:\n",
        "    print(\"Below twenty\")"
      ],
      "metadata": {
        "colab": {
          "base_uri": "https://localhost:8080/"
        },
        "id": "v2Jd4motLVbQ",
        "outputId": "18e4ea4a-f2eb-4de6-85bb-b25771c1ab11"
      },
      "execution_count": null,
      "outputs": [
        {
          "output_type": "stream",
          "name": "stdout",
          "text": [
            "Above twenty, \n",
            "and also above 40\n"
          ]
        }
      ]
    },
    {
      "cell_type": "code",
      "source": [
        "# Switch Case / Match Case\n",
        "\n",
        "match x : \n",
        "  case 'a':\n",
        "    print(1)\n",
        "case 'b':\n",
        "    print(2)\n",
        "case _:\n",
        "    print(0) # 0 is the default case if x is not found\n",
        "\n",
        "\n",
        "match x :case 'a’:\n",
        "print(1)\n",
        "case 'b’:\n",
        "print(2)\n",
        "case _:\n",
        "print(0)\n",
        "\n",
        "# cuma bisa python versi tertentu"
      ],
      "metadata": {
        "colab": {
          "base_uri": "https://localhost:8080/",
          "height": 131
        },
        "id": "LGqPmbo4N7Fi",
        "outputId": "89466143-26e1-4498-ee23-f8cd2e7e8152"
      },
      "execution_count": null,
      "outputs": [
        {
          "output_type": "error",
          "ename": "SyntaxError",
          "evalue": "ignored",
          "traceback": [
            "\u001b[0;36m  File \u001b[0;32m\"<ipython-input-52-bcd7676e6116>\"\u001b[0;36m, line \u001b[0;32m3\u001b[0m\n\u001b[0;31m    match x :\u001b[0m\n\u001b[0m          ^\u001b[0m\n\u001b[0;31mSyntaxError\u001b[0m\u001b[0;31m:\u001b[0m invalid syntax\n"
          ]
        }
      ]
    },
    {
      "cell_type": "code",
      "source": [
        "input_value = 5\n",
        "\n",
        "# kuran dari 5 -> print ('kurang dari 5')\n",
        "# lebih dari 5 -> print('lebih dari sama dengan 5')\n",
        "\n",
        "if input_value <= 5:\n",
        "  print('kurang dari 5')\n",
        "elif input_value >= 5:\n",
        "  print('lebih dari sama dengan 5')\n",
        "\n",
        "# kalo pake operator <= atau =>, udah satu kondisi terpenui dia bakal ke run"
      ],
      "metadata": {
        "colab": {
          "base_uri": "https://localhost:8080/"
        },
        "id": "HcvWrCvoRZOZ",
        "outputId": "6e18caf3-eb43-4d89-cd23-f30b57f5aee6"
      },
      "execution_count": null,
      "outputs": [
        {
          "output_type": "stream",
          "name": "stdout",
          "text": [
            "kurang dari 5\n"
          ]
        }
      ]
    },
    {
      "cell_type": "code",
      "source": [
        "# assigning variabel\n",
        "nama_variabel = 'value dari variabel'\n",
        "\n",
        "# Data Type\n",
        "\"\"\"\n",
        "  string 'aselole'\n",
        "  int 45\n",
        "  float 2.4\n",
        "  boolean False / True\n",
        "  list ['satu', 'dua', 'tiga', 'empat', 'sempak']\n",
        "  dictioary {'name' : 'diaz', 'age' : 25}"
      ],
      "metadata": {
        "id": "x3NemE0PSQ0z"
      },
      "execution_count": null,
      "outputs": []
    },
    {
      "cell_type": "code",
      "source": [
        "# ngecek versi python\n",
        "\n",
        "!python -V"
      ],
      "metadata": {
        "colab": {
          "base_uri": "https://localhost:8080/"
        },
        "id": "qP-HrQrhL93v",
        "outputId": "fdbb7004-ab49-431b-af72-2cf4110e0a52"
      },
      "execution_count": null,
      "outputs": [
        {
          "output_type": "stream",
          "name": "stdout",
          "text": [
            "Python 3.7.12\n"
          ]
        }
      ]
    },
    {
      "cell_type": "code",
      "source": [
        "nama = \"Diaz_Jubairy\"\n",
        "kelamin = \"laki-laki\"\n",
        "\n",
        "if nama == \"Diaz_Jubairy\" and kelamin == \"laki-laki\":\n",
        "  print(\"Sewaktu sekolah, saya menggunakan celana panjang berwarna abu\")"
      ],
      "metadata": {
        "colab": {
          "base_uri": "https://localhost:8080/"
        },
        "id": "yPX74WXgYxaS",
        "outputId": "9ccfd782-a559-42c1-b5b1-321ed7b1c1bc"
      },
      "execution_count": null,
      "outputs": [
        {
          "output_type": "stream",
          "name": "stdout",
          "text": [
            "Sewaktu sekolah, saya menggunakan celana panjang berwarna abu\n"
          ]
        }
      ]
    }
  ]
}